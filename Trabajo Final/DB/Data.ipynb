{
 "cells": [
  {
   "cell_type": "code",
   "execution_count": 1,
   "metadata": {},
   "outputs": [
    {
     "name": "stdout",
     "output_type": "stream",
     "text": [
      "Tabla de Trades de BTC:\n",
      "         Date   Open   High    Low  Close       Volume       Balance  \\\n",
      "0  2003-08-18   8.48   8.98   8.35   8.91  26783000.00   26783000.00   \n",
      "1  2006-10-27  21.35  21.79  20.74  20.86  28098900.00  -28098900.00   \n",
      "2  2016-11-18   8.68   8.83   8.40   8.71  62336200.00   62336200.00   \n",
      "3  2017-12-15  10.13  10.32  10.02  10.29  45462300.00   45462300.00   \n",
      "4  2018-06-12  15.84  15.95  15.43  15.85  67002600.00   67002600.00   \n",
      "5  2022-04-11  98.60  98.67  95.94  97.37  95527700.00  -95527700.00   \n",
      "\n",
      "             OBV  cruce    rsi sigma OBV_osc cruce_volumen cruce_precio  \\\n",
      "0   167082200.00   0.04  74.69  0.03    3.76          4.23         1.26   \n",
      "1   580366700.00  -0.16  39.15  0.04   -0.88          0.92         0.85   \n",
      "2   580206800.00   0.37  67.55  0.04    2.56          1.22         1.29   \n",
      "3   884302000.00  -0.06  39.68  0.03   -0.79          1.05         0.88   \n",
      "4  1922891700.00   0.00  74.46  0.03    2.60          1.10         1.33   \n",
      "5  4948798600.00  -0.03  38.55  0.04   -0.80          0.93         0.85   \n",
      "\n",
      "  cruce_20_100 cruce_50_200 rsi_media OBV_media                     gatillo  \n",
      "0         1.04         1.06     59.24      1.42  compra;;;;;;;;;;;;;;;;;;\\r  \n",
      "1         0.84         0.92     40.94      0.89   venta;;;;;;;;;;;;;;;;;;\\r  \n",
      "2         1.37         1.13     54.56      9.79  compra;;;;;;;;;;;;;;;;;;\\r  \n",
      "3         0.94         0.89     34.52      0.86   venta;;;;;;;;;;;;;;;;;;\\r  \n",
      "4         1.00         1.16     74.26      1.50  compra;;;;;;;;;;;;;;;;;;\\r  \n",
      "5         0.97         0.93     44.97      0.95   venta;;;;;;;;;;;;;;;;;;\\r  \n"
     ]
    }
   ],
   "source": [
    "import mysql.connector;\n",
    "from claves import clave;\n",
    "import pandas as pd;\n",
    "\n",
    "cnn = mysql.connector.connect(host = \"localhost\", user= \"root\", passwd =clave, database = \"BTC\");\n",
    "\n",
    "\n",
    "def consulta():\n",
    "        cur = cnn.cursor()\n",
    "        cur.execute(\"SELECT * FROM BTC.Tradess;\")\n",
    "        datos = cur.fetchall()\n",
    "        #Hago un data frame\n",
    "        data = pd.DataFrame(datos)\n",
    "        # data = data.set_index('',inplace=True)\n",
    "\n",
    "        cur.close()\n",
    "        cnn.close()\n",
    "        return data\n",
    "\n",
    "\n",
    "import pandas as pd\n",
    "a = pd.DataFrame()\n",
    "\n",
    "p=consulta()\n",
    "\n",
    "a['Date'] = p[0] \n",
    "a['Open'] = p[1]\n",
    "a['High'] = p[2]\n",
    "a['Low'] = p[3]\n",
    "a['Close'] = p[4]\n",
    "a['Volume'] = p[5]\n",
    "a['Balance'] = p[6]\n",
    "a['OBV'] = p[7]\n",
    "a['cruce'] = p[8]\n",
    "a['rsi'] = p[9]\n",
    "a['sigma'] = p[10]\n",
    "a['OBV_osc'] = p[11]\n",
    "a['cruce_volumen'] = p[12]\n",
    "a['cruce_precio'] = p[13]\n",
    "a['cruce_20_100'] = p[14]\n",
    "a['cruce_50_200'] = p[15]\n",
    "a['rsi_media'] = p[16]\n",
    "a['OBV_media'] = p[17]\n",
    "a['gatillo'] = p[18]\n",
    "\n",
    "print('Tabla de Trades de BTC:')\n",
    "print(a)\n",
    "\n",
    "\n",
    "\n",
    "\n",
    "\n"
   ]
  }
 ],
 "metadata": {
  "kernelspec": {
   "display_name": "Python 3.10.1 64-bit",
   "language": "python",
   "name": "python3"
  },
  "language_info": {
   "codemirror_mode": {
    "name": "ipython",
    "version": 3
   },
   "file_extension": ".py",
   "mimetype": "text/x-python",
   "name": "python",
   "nbconvert_exporter": "python",
   "pygments_lexer": "ipython3",
   "version": "3.10.1"
  },
  "orig_nbformat": 4,
  "vscode": {
   "interpreter": {
    "hash": "eddcb64b1d400ffe0bd39576c5dc340b6c512b11a36f315fda3dff60377dbdf3"
   }
  }
 },
 "nbformat": 4,
 "nbformat_minor": 2
}
